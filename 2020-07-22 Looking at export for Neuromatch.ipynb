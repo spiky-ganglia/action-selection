{
 "cells": [
  {
   "cell_type": "code",
   "execution_count": 1,
   "metadata": {},
   "outputs": [],
   "source": [
    "%load_ext autoreload\n",
    "%autoreload 2\n",
    "%matplotlib inline\n",
    "#%load_ext nb_black"
   ]
  },
  {
   "cell_type": "code",
   "execution_count": 2,
   "metadata": {},
   "outputs": [],
   "source": [
    "import h5py\n",
    "import os\n",
    "import numpy as np\n",
    "import matplotlib.pyplot as plt"
   ]
  },
  {
   "cell_type": "code",
   "execution_count": 3,
   "metadata": {},
   "outputs": [],
   "source": [
    "use_file = \"/home/markowitzmeister_gmail_com/workspace/raw_data/published_data/cell_2018/neuromatch_export.h5\""
   ]
  },
  {
   "cell_type": "code",
   "execution_count": 4,
   "metadata": {},
   "outputs": [],
   "source": [
    "def printall(name, obj):\n",
    "    print(name, dict(obj.attrs))"
   ]
  },
  {
   "cell_type": "code",
   "execution_count": 5,
   "metadata": {},
   "outputs": [
    {
     "name": "stdout",
     "output_type": "stream",
     "text": [
      "date {'description': 'date of session', 'dtype': 'string'}\n",
      "dspn_dff {'description': 'df/f for dspns (RCaMP)', 'dtype': 'single'}\n",
      "ispn_dff {'description': 'df/f for ispns (GCaMP)', 'dtype': 'single'}\n",
      "mouse_id {'description': 'ID of mouse', 'dtype': 'string'}\n",
      "syllables {'description': 'Syllable labels (sorted by usage)', 'dtype': 'int16'}\n",
      "timestamps {'description': 'timestamps in seconds', 'dtype': 'single'}\n"
     ]
    }
   ],
   "source": [
    "with h5py.File(use_file, \"r\") as f:\n",
    "    # each session is mapped to a uuid\n",
    "    uuids = list(f.keys())\n",
    "    \n",
    "    # print the attributes for a single dataset\n",
    "    f[uuids[0]].visititems(printall) \n",
    "    \n",
    "    # load in the data for the first session\n",
    "    \n",
    "    dspn_dff = f[uuids[0]][\"dspn_dff\"][()].ravel()\n",
    "    ispn_dff = f[uuids[0]][\"ispn_dff\"][()].ravel()\n",
    "    timestamps = f[uuids[0]][\"timestamps\"][()].ravel()\n",
    "    syllables = f[uuids[0]][\"syllables\"][()].ravel()"
   ]
  },
  {
   "cell_type": "code",
   "execution_count": 6,
   "metadata": {},
   "outputs": [],
   "source": [
    "vals = np.linspace(0,1,256)\n",
    "np.random.shuffle(vals)\n",
    "cmap = plt.cm.colors.ListedColormap(plt.cm.jet(vals))"
   ]
  },
  {
   "cell_type": "code",
   "execution_count": 7,
   "metadata": {},
   "outputs": [
    {
     "name": "stderr",
     "output_type": "stream",
     "text": [
      "findfont: Font family ['sans-serif'] not found. Falling back to DejaVu Sans.\n"
     ]
    },
    {
     "data": {
      "image/png": "[encoded data removed]",
      "text/plain": [
       "<Figure size 360x216 with 2 Axes>"
      ]
     },
     "metadata": {
      "needs_background": "light"
     },
     "output_type": "display_data"
    }
   ],
   "source": [
    "fig, ax = plt.subplots(2, 1, figsize=(5, 3), sharex=True)\n",
    "plt_pts = slice(500, 1000)\n",
    "ax[0].imshow(np.tile(syllables[plt_pts], [100, 1]), aspect=\"auto\", cmap=cmap)\n",
    "ax[0].axis(\"off\")\n",
    "ax[1].plot(ispn_dff[plt_pts])\n",
    "ax[1].set_xticks((0, (plt_pts.stop - plt_pts.start)))\n",
    "ax[1].set_xticklabels(np.around(timestamps[[plt_pts.start, plt_pts.stop]], 2))\n",
    "ax[1].set_xlabel(\"Time (seconds)\")\n",
    "ax[1].set_ylabel(\"dF/F0\")\n",
    "plt.tight_layout()"
   ]
  },
  {
   "cell_type": "code",
   "execution_count": null,
   "metadata": {},
   "outputs": [],
   "source": []
  }
 ],
 "metadata": {
  "kernelspec": {
   "display_name": "Python [conda env:decoding]",
   "language": "python",
   "name": "conda-env-decoding-py"
  },
  "language_info": {
   "codemirror_mode": {
    "name": "ipython",
    "version": 3
   },
   "file_extension": ".py",
   "mimetype": "text/x-python",
   "name": "python",
   "nbconvert_exporter": "python",
   "pygments_lexer": "ipython3",
   "version": "3.6.10"
  }
 },
 "nbformat": 4,
 "nbformat_minor": 4
}
