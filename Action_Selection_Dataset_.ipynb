{
  "nbformat": 4,
  "nbformat_minor": 0,
  "metadata": {
    "colab": {
      "name": "Action Selection Dataset..ipynb",
      "provenance": [],
      "collapsed_sections": [],
      "toc_visible": true,
      "authorship_tag": "ABX9TyOS/ZGInH/VJGJT+wzWMsJ4",
      "include_colab_link": true
    },
    "kernelspec": {
      "name": "python3",
      "display_name": "Python 3"
    }
  },
  "cells": [
    {
      "cell_type": "markdown",
      "metadata": {
        "id": "view-in-github",
        "colab_type": "text"
      },
      "source": [
        "<a href=\"https://colab.research.google.com/github/spiky-ganglia/action-selection/blob/master/Action_Selection_Dataset_.ipynb\" target=\"_parent\"><img src=\"https://colab.research.google.com/assets/colab-badge.svg\" alt=\"Open In Colab\"/></a>"
      ]
    },
    {
      "cell_type": "markdown",
      "metadata": {
        "id": "Pr3IYGFp0IT8",
        "colab_type": "text"
      },
      "source": [
        "### Moment-to-Moment Action Selection NeuroMatch Dataset provided by Jeffrey Markowitz\n",
        "by email July 22, 2020 \\\\\n",
        "re: [The Striatum Organizes 3D Behavior via Moment-to-Moment Action Selection](https://www.cell.com/cell/pdf/S0092-8674(18)30512-9.pdf)"
      ]
    },
    {
      "cell_type": "code",
      "metadata": {
        "id": "KN0SQaKK0Abg",
        "colab_type": "code",
        "colab": {
          "base_uri": "https://localhost:8080/",
          "height": 131
        },
        "outputId": "a706f7f7-6251-42e7-89bb-93c8706e1bff"
      },
      "source": [
        "# clone github repository only when starting or restarting notebook\n",
        "!git clone https://github.com/spiky-ganglia/action-selection.git"
      ],
      "execution_count": null,
      "outputs": [
        {
          "output_type": "stream",
          "text": [
            "Cloning into 'action-selection'...\n",
            "remote: Enumerating objects: 27, done.\u001b[K\n",
            "remote: Counting objects: 100% (27/27), done.\u001b[K\n",
            "remote: Compressing objects: 100% (20/20), done.\u001b[K\n",
            "remote: Total 27 (delta 9), reused 12 (delta 3), pack-reused 0\u001b[K\n",
            "Unpacking objects: 100% (27/27), done.\n"
          ],
          "name": "stdout"
        }
      ]
    },
    {
      "cell_type": "markdown",
      "metadata": {
        "id": "Tu2yhX074tMa",
        "colab_type": "text"
      },
      "source": [
        "### Jeffrey's notebook"
      ]
    },
    {
      "cell_type": "code",
      "metadata": {
        "id": "R3Sr9Ami0Shv",
        "colab_type": "code",
        "colab": {}
      },
      "source": [
        "%load_ext autoreload\n",
        "%autoreload 2\n",
        "%matplotlib inline\n",
        "#%load_ext nb_black"
      ],
      "execution_count": null,
      "outputs": []
    },
    {
      "cell_type": "code",
      "metadata": {
        "id": "kSnOSVvL0Sc-",
        "colab_type": "code",
        "colab": {}
      },
      "source": [
        "import h5py\n",
        "import os\n",
        "import numpy as np\n",
        "import matplotlib.pyplot as plt"
      ],
      "execution_count": null,
      "outputs": []
    },
    {
      "cell_type": "code",
      "metadata": {
        "id": "oi5BeQZw0SYv",
        "colab_type": "code",
        "colab": {}
      },
      "source": [
        "use_file = '/content/action-selection/data/neuromatch_export.h5'"
      ],
      "execution_count": null,
      "outputs": []
    },
    {
      "cell_type": "code",
      "metadata": {
        "id": "O1FHEPOT0STz",
        "colab_type": "code",
        "colab": {}
      },
      "source": [
        "def printall(name, obj):\n",
        "    print(name, dict(obj.attrs))"
      ],
      "execution_count": null,
      "outputs": []
    },
    {
      "cell_type": "code",
      "metadata": {
        "id": "EbqJ-UmA0SOA",
        "colab_type": "code",
        "colab": {
          "base_uri": "https://localhost:8080/",
          "height": 131
        },
        "outputId": "81347748-7344-497f-d68d-e19bffc31036"
      },
      "source": [
        "with h5py.File(use_file, \"r\") as f:\n",
        "    # each session is mapped to a uuid\n",
        "    uuids = list(f.keys())\n",
        "    \n",
        "    # print the attributes for a single dataset\n",
        "    f[uuids[0]].visititems(printall) \n",
        "    \n",
        "    # load in the data for the first session\n",
        "    dspn_dff = f[uuids[0]][\"dspn_dff\"][()].ravel()\n",
        "    ispn_dff = f[uuids[0]][\"ispn_dff\"][()].ravel()\n",
        "    timestamps = f[uuids[0]][\"timestamps\"][()].ravel()\n",
        "    syllables = f[uuids[0]][\"syllables\"][()].ravel()"
      ],
      "execution_count": null,
      "outputs": [
        {
          "output_type": "stream",
          "text": [
            "date {'description': 'date of session', 'dtype': 'string'}\n",
            "dspn_dff {'description': 'df/f for dspns (RCaMP)', 'dtype': 'single'}\n",
            "ispn_dff {'description': 'df/f for ispns (GCaMP)', 'dtype': 'single'}\n",
            "mouse_id {'description': 'ID of mouse', 'dtype': 'string'}\n",
            "syllables {'description': 'Syllable labels (sorted by usage)', 'dtype': 'int16'}\n",
            "timestamps {'description': 'timestamps in seconds', 'dtype': 'single'}\n"
          ],
          "name": "stdout"
        }
      ]
    },
    {
      "cell_type": "code",
      "metadata": {
        "id": "bGbshtn20SGA",
        "colab_type": "code",
        "colab": {}
      },
      "source": [
        "vals = np.linspace(0,1,256)\n",
        "np.random.shuffle(vals)\n",
        "cmap = plt.cm.colors.ListedColormap(plt.cm.jet(vals))"
      ],
      "execution_count": null,
      "outputs": []
    },
    {
      "cell_type": "code",
      "metadata": {
        "id": "AmR3Pu7r0R7C",
        "colab_type": "code",
        "colab": {
          "base_uri": "https://localhost:8080/",
          "height": 225
        },
        "outputId": "f6ac57a1-b3fe-40d2-e4e7-473ea6bab778"
      },
      "source": [
        "fig, ax = plt.subplots(2, 1, figsize=(5, 3), sharex=True)\n",
        "plt_pts = slice(500, 1000)\n",
        "ax[0].imshow(np.tile(syllables[plt_pts], [100, 1]), aspect=\"auto\", cmap=cmap)\n",
        "ax[0].axis(\"off\")\n",
        "ax[1].plot(ispn_dff[plt_pts])\n",
        "ax[1].set_xticks((0, (plt_pts.stop - plt_pts.start)))\n",
        "ax[1].set_xticklabels(np.around(timestamps[[plt_pts.start, plt_pts.stop]], 2))\n",
        "ax[1].set_xlabel(\"Time (seconds)\")\n",
        "ax[1].set_ylabel(\"dF/F0\")\n",
        "plt.tight_layout()"
      ],
      "execution_count": null,
      "outputs": [
        {
          "output_type": "display_data",
          "data": {
            "image/png": "[encoded data removed]",
            "text/plain": [
              "<Figure size 360x216 with 2 Axes>"
            ]
          },
          "metadata": {
            "tags": [],
            "needs_background": "light"
          }
        }
      ]
    },
    {
      "cell_type": "markdown",
      "metadata": {
        "id": "J9O-eQYpX4MY",
        "colab_type": "text"
      },
      "source": [
        "### resources\n",
        "\n",
        "link | what it's for\n",
        "--- | ---\n",
        "[Python and HDF5](https://docs.google.com/viewer?a=v&pid=sites&srcid=b2JqZWN0bWFnZS5jb218cHJpdmF0ZS10cmFpbmluZ3xneDoyNWIzNmI3YWFhOTFmMjU2) | h5py info in book format\n",
        "[seaborn introduction](https://seaborn.pydata.org/introduction.html) | seaborn introduces itself\n",
        "[Offical seaborn tutorial](https://seaborn.pydata.org/tutorial.html#tutorial) | by Michael Waskom (also course reviewer for Neuromatch Academy courses)\n",
        "[Pandas tutorials](https://pandas.pydata.org/pandas-docs/stable/getting_started/tutorials.html) | Pandas' reference to various tutorials and getting started guides\n",
        "\n"
      ]
    },
    {
      "cell_type": "markdown",
      "metadata": {
        "id": "bTaQWdBk45VY",
        "colab_type": "text"
      },
      "source": [
        "### data analysis"
      ]
    },
    {
      "cell_type": "code",
      "metadata": {
        "id": "PQ0FqBX51oca",
        "colab_type": "code",
        "colab": {}
      },
      "source": [
        "import pandas as pd\n",
        "import seaborn as sns\n"
      ],
      "execution_count": null,
      "outputs": []
    }
  ]
}