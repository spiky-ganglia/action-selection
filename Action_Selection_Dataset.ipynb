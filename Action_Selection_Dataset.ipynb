{
  "nbformat": 4,
  "nbformat_minor": 0,
  "metadata": {
    "colab": {
      "name": "Action Selection Dataset.ipynb",
      "provenance": [],
      "collapsed_sections": [],
      "toc_visible": true,
      "authorship_tag": "ABX9TyM9D4G60Jy66AUAdIME9+3L",
      "include_colab_link": true
    },
    "kernelspec": {
      "name": "python3",
      "display_name": "Python 3"
    }
  },
  "cells": [
    {
      "cell_type": "markdown",
      "metadata": {
        "id": "view-in-github",
        "colab_type": "text"
      },
      "source": [
        "<a href=\"https://colab.research.google.com/github/spiky-ganglia/action-selection/blob/master/Action_Selection_Dataset.ipynb\" target=\"_parent\"><img src=\"https://colab.research.google.com/assets/colab-badge.svg\" alt=\"Open In Colab\"/></a>"
      ]
    },
    {
      "cell_type": "markdown",
      "metadata": {
        "id": "Pr3IYGFp0IT8",
        "colab_type": "text"
      },
      "source": [
        "### Moment-to-Moment Action Selection NeuroMatch Dataset provided by Jeffrey Markowitz\n",
        "by email July 22, 2020 \\\\\n",
        "re: [The Striatum Organizes 3D Behavior via Moment-to-Moment Action Selection](https://www.cell.com/cell/pdf/S0092-8674(18)30512-9.pdf)"
      ]
    },
    {
      "cell_type": "code",
      "metadata": {
        "id": "yvbU38VTlXFo",
        "colab_type": "code",
        "colab": {}
      },
      "source": [
        "# load repository if not already loaded\n",
        "import os\n",
        "\n",
        "if not os.path.exists('/content/action-selection'):\n",
        "  os.system('git clone https://github.com/spiky-ganglia/action-selection.git')\n",
        "else:\n",
        "  print('The repository data is already loaded')"
      ],
      "execution_count": null,
      "outputs": []
    },
    {
      "cell_type": "markdown",
      "metadata": {
        "id": "Tu2yhX074tMa",
        "colab_type": "text"
      },
      "source": [
        "### Jeffrey's notebook"
      ]
    },
    {
      "cell_type": "code",
      "metadata": {
        "id": "R3Sr9Ami0Shv",
        "colab_type": "code",
        "colab": {}
      },
      "source": [
        "%load_ext autoreload\n",
        "%autoreload 2\n",
        "%matplotlib inline\n",
        "#%load_ext nb_black"
      ],
      "execution_count": null,
      "outputs": []
    },
    {
      "cell_type": "code",
      "metadata": {
        "id": "kSnOSVvL0Sc-",
        "colab_type": "code",
        "colab": {}
      },
      "source": [
        "import h5py\n",
        "#import os\n",
        "import numpy as np\n",
        "import matplotlib.pyplot as plt"
      ],
      "execution_count": null,
      "outputs": []
    },
    {
      "cell_type": "code",
      "metadata": {
        "id": "oi5BeQZw0SYv",
        "colab_type": "code",
        "colab": {}
      },
      "source": [
        "use_file = '/content/action-selection/data/neuromatch_export.h5'"
      ],
      "execution_count": null,
      "outputs": []
    },
    {
      "cell_type": "code",
      "metadata": {
        "id": "O1FHEPOT0STz",
        "colab_type": "code",
        "colab": {}
      },
      "source": [
        "def printall(name, obj):\n",
        "    print(name, dict(obj.attrs))"
      ],
      "execution_count": null,
      "outputs": []
    },
    {
      "cell_type": "code",
      "metadata": {
        "id": "EbqJ-UmA0SOA",
        "colab_type": "code",
        "colab": {
          "base_uri": "https://localhost:8080/",
          "height": 131
        },
        "outputId": "de2be5e9-3cda-4c35-ea09-56695e209eb1"
      },
      "source": [
        "with h5py.File(use_file, \"r\") as f:\n",
        "    # each session is mapped to a uuid\n",
        "    uuids = list(f.keys())\n",
        "    \n",
        "    # print the attributes for a single dataset\n",
        "    f[uuids[0]].visititems(printall) \n",
        "    \n",
        "    # load in the data for the first session\n",
        "    dspn_dff = f[uuids[0]][\"dspn_dff\"][()].ravel()\n",
        "    ispn_dff = f[uuids[0]][\"ispn_dff\"][()].ravel()\n",
        "    timestamps = f[uuids[0]][\"timestamps\"][()].ravel()\n",
        "    syllables = f[uuids[0]][\"syllables\"][()].ravel()"
      ],
      "execution_count": null,
      "outputs": [
        {
          "output_type": "stream",
          "text": [
            "date {'description': 'date of session', 'dtype': 'string'}\n",
            "dspn_dff {'description': 'df/f for dspns (RCaMP)', 'dtype': 'single'}\n",
            "ispn_dff {'description': 'df/f for ispns (GCaMP)', 'dtype': 'single'}\n",
            "mouse_id {'description': 'ID of mouse', 'dtype': 'string'}\n",
            "syllables {'description': 'Syllable labels (sorted by usage)', 'dtype': 'int16'}\n",
            "timestamps {'description': 'timestamps in seconds', 'dtype': 'single'}\n"
          ],
          "name": "stdout"
        }
      ]
    },
    {
      "cell_type": "code",
      "metadata": {
        "id": "bGbshtn20SGA",
        "colab_type": "code",
        "colab": {}
      },
      "source": [
        "vals = np.linspace(0,1,256)\n",
        "np.random.shuffle(vals)\n",
        "cmap = plt.cm.colors.ListedColormap(plt.cm.jet(vals))"
      ],
      "execution_count": null,
      "outputs": []
    },
    {
      "cell_type": "code",
      "metadata": {
        "id": "AmR3Pu7r0R7C",
        "colab_type": "code",
        "colab": {
          "base_uri": "https://localhost:8080/",
          "height": 297
        },
        "outputId": "d53148a2-db0e-47e5-b38f-e05608fb7a61"
      },
      "source": [
        "fig, ax = plt.subplots(2, 1, figsize=(10, 4), sharex=True)\n",
        "plt_pts = slice(500, 1000)\n",
        "ax[0].imshow(np.tile(syllables[plt_pts], [100, 1]), aspect=\"auto\", cmap=cmap)\n",
        "ax[0].axis(\"off\")\n",
        "ax[1].plot(ispn_dff[plt_pts])\n",
        "ax[1].set_xticks((0, (plt_pts.stop - plt_pts.start)))\n",
        "ax[1].set_xticklabels(np.around(timestamps[[plt_pts.start, plt_pts.stop]], 2))\n",
        "ax[1].set_xlabel(\"Time (seconds)\")\n",
        "ax[1].set_ylabel(\"dF/F0\")\n",
        "plt.tight_layout()"
      ],
      "execution_count": null,
      "outputs": [
        {
          "output_type": "display_data",
          "data": {
            "image/png": "[encoded data removed]",
            "text/plain": [
              "<Figure size 720x288 with 2 Axes>"
            ]
          },
          "metadata": {
            "tags": [],
            "needs_background": "light"
          }
        }
      ]
    },
    {
      "cell_type": "markdown",
      "metadata": {
        "id": "J9O-eQYpX4MY",
        "colab_type": "text"
      },
      "source": [
        "### resources\n",
        "\n",
        "link | what it's for\n",
        "--- | ---\n",
        "[Python and HDF5](https://docs.google.com/viewer?a=v&pid=sites&srcid=b2JqZWN0bWFnZS5jb218cHJpdmF0ZS10cmFpbmluZ3xneDoyNWIzNmI3YWFhOTFmMjU2) | h5py info in book format\n",
        "[seaborn introduction](https://seaborn.pydata.org/introduction.html) | seaborn introduces itself\n",
        "[Offical seaborn tutorial](https://seaborn.pydata.org/tutorial.html#tutorial) | by Michael Waskom (also course reviewer for Neuromatch Academy courses)\n",
        "[Pandas tutorials](https://pandas.pydata.org/pandas-docs/stable/getting_started/tutorials.html) | Pandas' reference to various tutorials and getting started guides\n",
        "[supplemental information](https://www.cell.com/cell/fulltext/S0092-8674(18)30512-9?_returnURL=https%3A%2F%2Flinkinghub.elsevier.com%2Fretrieve%2Fpii%2FS0092867418305129%3Fshowall%3Dtrue) | for the paper \"The Striatum Organizes 3D Behavior via Moment-to-Moment Action Selection\"\n"
      ]
    },
    {
      "cell_type": "markdown",
      "metadata": {
        "id": "bTaQWdBk45VY",
        "colab_type": "text"
      },
      "source": [
        "### data analysis"
      ]
    },
    {
      "cell_type": "code",
      "metadata": {
        "id": "PQ0FqBX51oca",
        "colab_type": "code",
        "colab": {}
      },
      "source": [
        "import pandas as pd\n",
        "import seaborn as sns\n"
      ],
      "execution_count": null,
      "outputs": []
    }
  ]
}